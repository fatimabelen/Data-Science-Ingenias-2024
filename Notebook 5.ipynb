{
 "cells": [
  {
   "cell_type": "markdown",
   "metadata": {
    "id": "Gp2WddtV9IwG"
   },
   "source": [
    "# Programa Ingenias+ Data Science"
   ]
  },
  {
   "cell_type": "markdown",
   "metadata": {
    "id": "H4M1yVbf9IwH"
   },
   "source": [
    "Como dijimos en clases anteriores, Python tiene implementadas muchas librerias para poder trabajar con datos. En la clase de hoy trabajaremos con una de ellas: `Numpy`."
   ]
  },
  {
   "cell_type": "markdown",
   "metadata": {
    "id": "GdTT8WeL9IwI"
   },
   "source": [
    "Antes de comenzar, vamos a hablar un poco de esta libreria o modulo.\n",
    "\n",
    "**Numpy** es una librería optimizada para realizar cálculos numéricos con vectores y matrices. A diferencia de otros lenguajes de programación, Python no posee en su estructura central la figura de matrices. Eso quiere decir que para poder trabajar con esta estructura de datos deberiamos trabajar con listas de listas. NumPy introduce el concepto de arrays o matrices."
   ]
  },
  {
   "cell_type": "markdown",
   "metadata": {
    "id": "qWkq3EHK9IwK"
   },
   "source": [
    "Al ser de código abierto, `numpy` posee una documentación muy amplia que es **SIEMPRE RECOMENDABLE** consultar."
   ]
  },
  {
   "cell_type": "markdown",
   "metadata": {
    "id": "nxe3KLUO9IwL"
   },
   "source": [
    "- [Documentacion NumPy](https://devdocs.io/numpy/)"
   ]
  },
  {
   "cell_type": "markdown",
   "metadata": {
    "id": "l1Ay3nSs9IwN"
   },
   "source": [
    "## Clase 4: Introduccion a NumPy"
   ]
  },
  {
   "cell_type": "markdown",
   "metadata": {
    "id": "X03mviQS9IyL"
   },
   "source": [
    "# Ejercicios\n",
    "\n",
    "1. Crear un arreglo de ceros de longitud 12\n",
    "2. Crear un arreglo de longitud 10 con ceros en todas sus posiciones y un 10 en la posición número 5\n",
    "3. Crear un arreglo que tenga los números del 10 al 49\n",
    "4. Crear una arreglo 2d de shape (3, 3) que tenga los números del 0 al 8\n",
    "5. Crear un arreglo de números aleatorios de longitud 100 y obtener su media y varianza\n",
    "6. Calcular la media de un arreglo usando np.sum\n",
    "7. Calcular la varianza de un arreglo usando np.sum y np.mean\n",
    "8. Crear un array de números aleatorios usando np.random.randn.\n"
   ]
  },
  {
   "cell_type": "code",
   "execution_count": 1,
   "metadata": {
    "id": "G0NMKT609IyM"
   },
   "outputs": [],
   "source": [
    "import numpy as np"
   ]
  },
  {
   "cell_type": "code",
   "execution_count": 6,
   "metadata": {},
   "outputs": [
    {
     "name": "stdout",
     "output_type": "stream",
     "text": [
      "[0 0 0 0 0 0 0 0 0 0 0 0]\n"
     ]
    }
   ],
   "source": [
    "# Ejercicio 1\n",
    "\n",
    "array_1 = np.zeros(12, dtype=int)\n",
    "print(array_1)\n"
   ]
  },
  {
   "cell_type": "code",
   "execution_count": 7,
   "metadata": {},
   "outputs": [
    {
     "name": "stdout",
     "output_type": "stream",
     "text": [
      "[ 0  0  0  0 10  0  0  0  0  0]\n"
     ]
    }
   ],
   "source": [
    "# Ejercicio 2\n",
    "\n",
    "array_2 = np.zeros(10, dtype=int)\n",
    "array_2[4] = 10\n",
    "print(array_2)\n"
   ]
  },
  {
   "cell_type": "code",
   "execution_count": 9,
   "metadata": {},
   "outputs": [
    {
     "name": "stdout",
     "output_type": "stream",
     "text": [
      "[16 24 41 47 16 39 23 37 27 10]\n"
     ]
    }
   ],
   "source": [
    "# Ejercicio 3\n",
    "\n",
    "array_3 = np.random.randint(10,49, 10)\n",
    "print(array_3)"
   ]
  },
  {
   "cell_type": "code",
   "execution_count": 20,
   "metadata": {},
   "outputs": [
    {
     "name": "stdout",
     "output_type": "stream",
     "text": [
      "[[8 3 1]\n",
      " [3 7 4]\n",
      " [5 4 4]]\n"
     ]
    }
   ],
   "source": [
    "# Ejercicio 4\n",
    "\n",
    "array_4 = np.random.randint(0,9, (3,3))\n",
    "print(array_4)\n"
   ]
  },
  {
   "cell_type": "code",
   "execution_count": 18,
   "metadata": {},
   "outputs": [
    {
     "name": "stdout",
     "output_type": "stream",
     "text": [
      "Arreglo aleatorio de longitud 100: [8.80833395e-01 6.79960576e-01 9.24798512e-01 9.43178966e-01\n",
      " 7.02571619e-01 7.44208387e-01 3.84485157e-01 1.93214228e-01\n",
      " 7.44221739e-01 9.42744869e-01 5.51026085e-01 3.21470959e-01\n",
      " 3.70409022e-01 6.19899749e-01 5.54990368e-01 9.08880383e-01\n",
      " 2.31806161e-01 6.71979291e-01 2.97271647e-01 9.06815307e-02\n",
      " 4.32411374e-01 9.35056200e-02 5.72338988e-01 5.74820488e-01\n",
      " 3.70787789e-01 3.62805494e-01 6.63029321e-01 5.73670691e-02\n",
      " 7.12267831e-01 1.48826795e-01 5.97601594e-02 7.68415846e-01\n",
      " 1.30751553e-01 6.55530001e-01 3.58778949e-01 1.97979158e-01\n",
      " 2.76200730e-01 3.15553240e-01 5.60619197e-01 3.52417271e-01\n",
      " 8.26999785e-04 7.06936085e-03 1.72828151e-01 2.38383312e-01\n",
      " 5.71814523e-01 5.74084979e-02 3.45636376e-02 9.44939620e-01\n",
      " 9.92645561e-01 2.43338755e-01 3.93277506e-01 8.06880987e-01\n",
      " 9.44384867e-01 3.93584444e-01 3.11712744e-01 8.96817120e-01\n",
      " 6.07627744e-01 4.49953356e-01 7.64449479e-01 2.48175088e-01\n",
      " 2.48609247e-01 8.25958742e-01 4.44023520e-02 5.43281276e-01\n",
      " 5.10931743e-01 9.73803706e-01 8.00663191e-01 1.26848040e-01\n",
      " 3.53971092e-01 6.86940476e-01 4.84304680e-01 2.81156725e-01\n",
      " 4.74371541e-01 3.17507653e-01 1.98055341e-01 1.62517784e-01\n",
      " 4.58213620e-01 5.47099344e-01 8.50211990e-01 6.15238791e-01\n",
      " 5.42643892e-01 6.90302691e-01 2.78884508e-02 3.71029145e-02\n",
      " 1.63245659e-02 7.60632580e-01 6.52102611e-01 9.08998757e-01\n",
      " 8.68266663e-02 6.02513344e-01 4.77922278e-01 2.93802613e-02\n",
      " 9.90001010e-01 1.72621032e-01 2.78149927e-01 9.56024189e-01\n",
      " 6.80314606e-02 8.98392600e-01 4.26219588e-01 9.53745335e-01]\n",
      "La media es: 0.47583392760423876\n",
      "La varianza es: 0.08854652089239985\n"
     ]
    }
   ],
   "source": [
    "# Ejercicio 5\n",
    "\n",
    "array_5 = np.random.rand(100)\n",
    "print(f\"Arreglo aleatorio de longitud 100: {array_5}\")\n",
    "\n",
    "#Media\n",
    "media = np.mean(array_5)\n",
    "print(f\"La media es: {media}\")\n",
    "\n",
    "#Varianza\n",
    "varianza = np.var(array_5)\n",
    "print(f\"La varianza es: {varianza}\")"
   ]
  },
  {
   "cell_type": "code",
   "execution_count": 24,
   "metadata": {},
   "outputs": [
    {
     "name": "stdout",
     "output_type": "stream",
     "text": [
      "La media del arreglo es: 0.47583392760423876\n"
     ]
    }
   ],
   "source": [
    "# Ejercicio 6\n",
    "\n",
    "def calcular_media(array):\n",
    "    media = np.sum(array)/array.size\n",
    "    print(f\"La media del arreglo es: {media}\")\n",
    "\n",
    "calcular_media(array_5) #caso de uso de la función con el array_5 del ej 5"
   ]
  },
  {
   "cell_type": "code",
   "execution_count": 26,
   "metadata": {},
   "outputs": [
    {
     "name": "stdout",
     "output_type": "stream",
     "text": [
      "La varianza es: 0.08854652089239985\n",
      "La varianza es: 4.0\n"
     ]
    }
   ],
   "source": [
    "# Ejercicio 7\n",
    "\n",
    "def calcular_varianza(array):\n",
    "    varianza = np.sum((array - np.mean(array)) ** 2)/array.size\n",
    "    print(f\"La varianza es: {varianza}\")\n",
    "\n",
    "calcular_varianza(array_5)\n",
    "calcular_varianza(array_4)"
   ]
  },
  {
   "cell_type": "code",
   "execution_count": 27,
   "metadata": {},
   "outputs": [
    {
     "name": "stdout",
     "output_type": "stream",
     "text": [
      "[0.33705372 0.80796641 0.4781584  0.79823043 0.72328547 0.57538233\n",
      " 0.02913272 0.70624978 0.05162072 0.57020088]\n"
     ]
    }
   ],
   "source": [
    "# Ejercicio 7 \n",
    "\n",
    "array_7 = np.random.rand(10)\n",
    "print(array_7)"
   ]
  },
  {
   "cell_type": "code",
   "execution_count": null,
   "metadata": {},
   "outputs": [],
   "source": []
  }
 ],
 "metadata": {
  "colab": {
   "provenance": [
    {
     "file_id": "1yM9mEW0U6gxoaAFhZyw2DpZdZMT5v10J",
     "timestamp": 1676044383219
    },
    {
     "file_id": "1RzLcI0RY1YrYoMa7PW17OME9qOO4jJ4s",
     "timestamp": 1676044338043
    }
   ]
  },
  "kernelspec": {
   "display_name": "Python 3 (ipykernel)",
   "language": "python",
   "name": "python3"
  },
  "language_info": {
   "codemirror_mode": {
    "name": "ipython",
    "version": 3
   },
   "file_extension": ".py",
   "mimetype": "text/x-python",
   "name": "python",
   "nbconvert_exporter": "python",
   "pygments_lexer": "ipython3",
   "version": "3.11.7"
  }
 },
 "nbformat": 4,
 "nbformat_minor": 4
}
